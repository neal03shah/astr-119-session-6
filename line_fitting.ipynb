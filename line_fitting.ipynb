{
 "cells": [
  {
   "cell_type": "markdown",
   "id": "ee5d420a",
   "metadata": {},
   "source": [
    "## Example of performing linear least squares fitting"
   ]
  },
  {
   "cell_type": "markdown",
   "id": "71a0b32a",
   "metadata": {},
   "source": [
    "First we import numpy and matplotlib as usual."
   ]
  },
  {
   "cell_type": "code",
   "execution_count": null,
   "id": "3a6d21c4",
   "metadata": {},
   "outputs": [],
   "source": [
    "%matplotlib inline\n",
    "import matplotlib.pyplot as plt\n",
    "import numpy as np"
   ]
  },
  {
   "cell_type": "markdown",
   "id": "97e3b300",
   "metadata": {},
   "source": [
    "Now, let's generate some random data about a trend line."
   ]
  },
  {
   "cell_type": "code",
   "execution_count": null,
   "id": "10fca515",
   "metadata": {},
   "outputs": [],
   "source": [
    "#set a random number seed\n",
    "np.random.seed(119)\n",
    "\n",
    "#set number of data points\n",
    "npoints = 50\n",
    "\n",
    "#set x\n",
    "x = np.linspace(0,10.,npoints)\n",
    "\n",
    "#set slope, intercept, and scatter rms\n",
    "m = 2.0\n",
    "b = 1.0\n",
    "sigma = 2.0\n",
    "\n",
    "#generate y points\n",
    "y = m*x + b + np.random.normal(scale=sigma,size=npoints)\n",
    "y_err = np.full(npoints,sigma)\n"
   ]
  },
  {
   "cell_type": "markdown",
   "id": "8f9fb68e",
   "metadata": {},
   "source": [
    "# Just plot the data!"
   ]
  },
  {
   "cell_type": "code",
   "execution_count": null,
   "id": "f1ec2601",
   "metadata": {},
   "outputs": [],
   "source": [
    "f = plt.figure(figsize=(7,7))\n",
    "plt.errorbar(x,y,sigma,fmt='o')\n",
    "plt.xlabel('x')\n",
    "plt.ylabel('y')"
   ]
  },
  {
   "cell_type": "markdown",
   "id": "a702decd",
   "metadata": {},
   "source": [
    "## Method #1, polyfit()"
   ]
  },
  {
   "cell_type": "code",
   "execution_count": null,
   "id": "64b9edc1",
   "metadata": {},
   "outputs": [],
   "source": [
    "m_fit, b_fit = np.poly1d(np.polyfit(x,y,1,w=1./y_err))\n",
    "print(\"Best fit slope = \",m_fit)\n",
    "print(\"Best fit intercept = \",b_fit)\n",
    "\n",
    "y_fit = m_fit*x + b_fit"
   ]
  },
  {
   "cell_type": "markdown",
   "id": "082beb0f",
   "metadata": {},
   "source": [
    "### Plot Result"
   ]
  },
  {
   "cell_type": "code",
   "execution_count": null,
   "id": "320f128b",
   "metadata": {},
   "outputs": [],
   "source": [
    "f = plt.figure(figsize=(6,6))\n",
    "plt.errorbar(x,y,sigma,fmt='o',label='data')\n",
    "plt.xlabel('x')\n",
    "plt.ylabel('y')\n",
    "\n",
    "plt.plot(x,y_fit,label='fit')\n",
    "plt.legend(loc=2,frameon=False)"
   ]
  },
  {
   "cell_type": "markdown",
   "id": "a40c28d1",
   "metadata": {},
   "source": [
    "### Method #2, scipy + optimize"
   ]
  },
  {
   "cell_type": "code",
   "execution_count": null,
   "id": "0b117484",
   "metadata": {},
   "outputs": [],
   "source": [
    "#import optimize from scipy\n",
    "from scipy import optimize\n",
    "\n",
    "#define the function to fit\n",
    "def f_line(x, m, b):\n",
    "    return m*x + b\n",
    "\n",
    "#perform the fit\n",
    "params, params_cov = optimize.curve_fit(f_line,x,y,sigma=y_err)\n",
    "\n",
    "m_fit = params[0]\n",
    "b_fit = params[1]\n",
    "print(m_fit, b_fit)"
   ]
  },
  {
   "cell_type": "code",
   "execution_count": null,
   "id": "e0cae051",
   "metadata": {},
   "outputs": [],
   "source": [
    "print(m_fit, b_fit)\n"
   ]
  },
  {
   "cell_type": "code",
   "execution_count": null,
   "id": "21ce7d2e",
   "metadata": {},
   "outputs": [],
   "source": []
  }
 ],
 "metadata": {
  "kernelspec": {
   "display_name": "Python 3 (ipykernel)",
   "language": "python",
   "name": "python3"
  },
  "language_info": {
   "codemirror_mode": {
    "name": "ipython",
    "version": 3
   },
   "file_extension": ".py",
   "mimetype": "text/x-python",
   "name": "python",
   "nbconvert_exporter": "python",
   "pygments_lexer": "ipython3",
   "version": "3.9.7"
  }
 },
 "nbformat": 4,
 "nbformat_minor": 5
}

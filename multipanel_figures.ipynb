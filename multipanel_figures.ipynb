{
 "cells": [
  {
   "cell_type": "markdown",
   "id": "928b24f4",
   "metadata": {},
   "source": [
    "# Making multipanel plots with matplotlib"
   ]
  },
  {
   "cell_type": "markdown",
   "id": "89d621d7",
   "metadata": {},
   "source": [
    "First, we import numpy and matplotlib as usual"
   ]
  },
  {
   "cell_type": "code",
   "execution_count": null,
   "id": "beb5b066",
   "metadata": {},
   "outputs": [],
   "source": [
    "%matplotlib inline\n",
    "import numpy as np\n",
    "import matplotlib.pyplot as plt"
   ]
  },
  {
   "cell_type": "markdown",
   "id": "563c1ea3",
   "metadata": {},
   "source": [
    "Then we define an array of angles, and their sines and cosines using numpy. This time we will use linspace"
   ]
  },
  {
   "cell_type": "code",
   "execution_count": null,
   "id": "1f35128a",
   "metadata": {},
   "outputs": [],
   "source": [
    "x = np.linspace(0,2*np.pi,100)\n",
    "print(\"First element of x = \",x[0])\n",
    "print(\"Last element of x = \",x[-1])\n",
    "print(\"2*pi = \",2*np.pi)"
   ]
  },
  {
   "cell_type": "code",
   "execution_count": null,
   "id": "02d69cc1",
   "metadata": {},
   "outputs": [],
   "source": [
    "y = np.sin(x)\n",
    "z = np.cos(x)\n",
    "w = np.sin(4*x)\n",
    "v = np.cos(4*x)"
   ]
  },
  {
   "cell_type": "markdown",
   "id": "919e8629",
   "metadata": {},
   "source": [
    "Now, let's make a two panel plot side-by-side"
   ]
  },
  {
   "cell_type": "code",
   "execution_count": null,
   "id": "66b01109",
   "metadata": {},
   "outputs": [],
   "source": [
    "#call subplots to generate a multipanel figure\n",
    "#this means 1 row, 2 columns as formatted\n",
    "f, axarr = plt.subplots(1,2)\n",
    "\n",
    "#treat axarr as an array, from left to right\n",
    "\n",
    "#first panel\n",
    "axarr[0].plot(x, y)\n",
    "axarr[0].set_xlabel('x')\n",
    "axarr[0].set_ylabel('sin(x)')\n",
    "axarr[0].set_title(r'$\\sin(x)$')\n",
    "\n",
    "#second panel\n",
    "axarr[1].plot(x, z)\n",
    "axarr[1].set_xlabel('x')\n",
    "axarr[1].set_ylabel('cos(x)')\n",
    "axarr[1].set_title(r'$\\cos(x)$')"
   ]
  },
  {
   "cell_type": "markdown",
   "id": "c574f4ae",
   "metadata": {},
   "source": [
    "### Here we can see that matplotlib has the panels too close together.\n",
    "\n",
    "### We can adjust that using the subplots_adjust() function"
   ]
  },
  {
   "cell_type": "code",
   "execution_count": null,
   "id": "a1894727",
   "metadata": {},
   "outputs": [],
   "source": [
    "#call subplots to generate a multipanel figure\n",
    "#this means 1 row, 2 columns as formatted\n",
    "f, axarr = plt.subplots(1,2)\n",
    "\n",
    "#treat axarr as an array, from left to right\n",
    "\n",
    "#first panel\n",
    "axarr[0].plot(x, y)\n",
    "axarr[0].set_xlabel('x')\n",
    "axarr[0].set_ylabel('sin(x)')\n",
    "axarr[0].set_title(r'$\\sin(x)$')\n",
    "\n",
    "#second panel\n",
    "axarr[1].plot(x, z)\n",
    "axarr[1].set_xlabel('x')\n",
    "axarr[1].set_ylabel('cos(x)')\n",
    "axarr[1].set_title(r'$\\cos(x)$')\n",
    "\n",
    "# add more space between the figures\n",
    "f.subplots_adjust(wspace=0.4)"
   ]
  },
  {
   "cell_type": "markdown",
   "id": "8b3395b1",
   "metadata": {},
   "source": [
    "### Ok, but the axis ratios are all squished. Let's fix that too."
   ]
  },
  {
   "cell_type": "code",
   "execution_count": null,
   "id": "446d6b35",
   "metadata": {},
   "outputs": [],
   "source": [
    "#call subplots to generate a multipanel figure\n",
    "#this means 1 row, 2 columns as formatted\n",
    "f, axarr = plt.subplots(1,2)\n",
    "\n",
    "#treat axarr as an array, from left to right\n",
    "\n",
    "#first panel\n",
    "axarr[0].plot(x, y)\n",
    "axarr[0].set_xlabel('x')\n",
    "axarr[0].set_ylabel('sin(x)')\n",
    "axarr[0].set_title(r'$\\sin(x)$')\n",
    "\n",
    "#second panel\n",
    "axarr[1].plot(x, z)\n",
    "axarr[1].set_xlabel('x')\n",
    "axarr[1].set_ylabel('cos(x)')\n",
    "axarr[1].set_title(r'$\\cos(x)$')\n",
    "\n",
    "#add more space between the figures\n",
    "f.subplots_adjust(wspace=0.4)\n",
    "\n",
    "#set the limits\n",
    "axarr[0].set_xlim([0,2*np.pi])\n",
    "axarr[0].set_ylim([-1,1])\n",
    "axarr[1].set_xlim([0,2*np.pi])\n",
    "axarr[1].set_ylim([-1,1])\n",
    "\n",
    "#fix the axis ratio\n",
    "#here are two options\n",
    "\n",
    "#makes the ratio of the tick untis equal, a bit counter intuitive\n",
    "axarr[0].set_aspect('equal')\n",
    "\n",
    "#make a square by setting the aspect to be the ratio of the range\n",
    "axarr[1].set_aspect(np.pi)"
   ]
  },
  {
   "cell_type": "markdown",
   "id": "fcfc2404",
   "metadata": {},
   "source": [
    "### Alright, let's keep the square figure, merge them into one, remove the titles, and add legends"
   ]
  },
  {
   "cell_type": "code",
   "execution_count": null,
   "id": "576081a0",
   "metadata": {},
   "outputs": [],
   "source": [
    "#adjust the size of the figure\n",
    "fig = plt.figure(figsize=(6,6))\n",
    "\n",
    "plt.plot(x, y, label=r'$y = \\sin(x)$') #add sin(x) label to line\n",
    "plt.plot(x, z, label=r'$y = \\cos(x)$') #add sin(x) label to line\n",
    "plt.plot(x, w, label=r'$y = \\sin(4x)$') #add sin(x) label to line\n",
    "plt.plot(x, v, label=r'$y = \\cos(4x)$') #add sin(x) label to line\n",
    "\n",
    "plt.xlabel(r'$x$')\n",
    "plt.ylabel(r'$y(x)$')\n",
    "plt.xlim([0,2*np.pi])\n",
    "plt.ylim([-1.2,1.2])\n",
    "plt.legend(loc=2,framealpha=0.5, frameon=False) #set to semi-transparency\n",
    "\n",
    "#fix the axis ratio\n",
    "plt.gca().set_aspect(np.pi/1.2) #to get a square figure"
   ]
  },
  {
   "cell_type": "code",
   "execution_count": null,
   "id": "01ddab8b",
   "metadata": {},
   "outputs": [],
   "source": []
  }
 ],
 "metadata": {
  "kernelspec": {
   "display_name": "Python 3 (ipykernel)",
   "language": "python",
   "name": "python3"
  },
  "language_info": {
   "codemirror_mode": {
    "name": "ipython",
    "version": 3
   },
   "file_extension": ".py",
   "mimetype": "text/x-python",
   "name": "python",
   "nbconvert_exporter": "python",
   "pygments_lexer": "ipython3",
   "version": "3.9.7"
  }
 },
 "nbformat": 4,
 "nbformat_minor": 5
}
